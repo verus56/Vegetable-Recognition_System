{
 "cells": [
  {
   "cell_type": "markdown",
   "metadata": {
    "id": "kM2kNcwl-h7g"
   },
   "source": [
    "# 1. by HAMZAOUI Thameur & OMARI HAMZA"
   ]
  },
  {
   "cell_type": "code",
   "execution_count": 8,
   "metadata": {
    "id": "ng_qEUft37Xr",
    "tags": []
   },
   "outputs": [
    {
     "name": "stderr",
     "output_type": "stream",
     "text": [
      "'rm' is not recognized as an internal or external command,\n",
      "operable program or batch file.\n"
     ]
    }
   ],
   "source": [
    "import warnings\n",
    "warnings.filterwarnings('ignore')\n",
    "\n",
    "from tensorflow import keras\n",
    "from tensorflow.keras import layers\n",
    "\n",
    "import numpy as np\n",
    "import matplotlib.pyplot as plt\n",
    "import tensorflow as tf\n",
    "from tensorflow import keras\n",
    "from keras.layers import *\n",
    "from keras.models import *\n",
    "from keras.preprocessing import image\n",
    "from keras.preprocessing.image import ImageDataGenerator\n",
    "from tensorflow.keras.models import load_model\n",
    "from tensorflow.keras.preprocessing import image\n",
    "\n",
    "import os, shutil, pathlib\n",
    "!rm -rf /content/logs"
   ]
  },
  {
   "cell_type": "code",
   "execution_count": 9,
   "metadata": {
    "colab": {
     "base_uri": "https://localhost:8080/"
    },
    "executionInfo": {
     "elapsed": 48,
     "status": "ok",
     "timestamp": 1680315211904,
     "user": {
      "displayName": "Rayane Larkem",
      "userId": "04691001256518795174"
     },
     "user_tz": -60
    },
    "id": "qSHK-vso4bFt",
    "outputId": "3fed012d-4770-4ebb-8b87-5ceead30df92",
    "tags": []
   },
   "outputs": [
    {
     "data": {
      "text/plain": [
       "[]"
      ]
     },
     "execution_count": 9,
     "metadata": {},
     "output_type": "execute_result"
    }
   ],
   "source": [
    "# Avoid OOM errors by setting GPU Memory Consumption Growth\n",
    "gpus = tf.config.experimental.list_physical_devices('GPU')\n",
    "for gpu in gpus: \n",
    "    tf.config.experimental.set_memory_growth(gpu, True)\n",
    "\n",
    "tf.config.list_physical_devices('GPU')\n"
   ]
  },
  {
   "cell_type": "markdown",
   "metadata": {
    "id": "Y4H7Ro-T-taA"
   },
   "source": [
    "# 3. Setup directories and cleaning data of our dataset"
   ]
  },
  {
   "cell_type": "code",
   "execution_count": 10,
   "metadata": {
    "id": "m8Fx6jYR61e1",
    "tags": []
   },
   "outputs": [],
   "source": [
    "# Setup the directory of training, test and validation data\n",
    "data_dir_train = \"C:/Users/Thameur/Desktop/projet/Data/train\"\n",
    "data_dir_validation = \"C:/Users/Thameur/Desktop/projet/Data/valid\"\n",
    "data_dir_test = \"C:/Users/Thameur/Desktop/projet/Data/test\"\n",
    "\n",
    "# Managing the extension of the files\n",
    "image_exts = ['jpeg','jpg', 'bmp', 'png']\n",
    "\n"
   ]
  },
  {
   "cell_type": "markdown",
   "metadata": {
    "id": "kDbi9tWnFLUF"
   },
   "source": [
    "# 4. Load the data"
   ]
  },
  {
   "cell_type": "code",
   "execution_count": 11,
   "metadata": {
    "colab": {
     "base_uri": "https://localhost:8080/"
    },
    "executionInfo": {
     "elapsed": 40,
     "status": "ok",
     "timestamp": 1680315211909,
     "user": {
      "displayName": "Rayane Larkem",
      "userId": "04691001256518795174"
     },
     "user_tz": -60
    },
    "id": "laGU0TMhBmBu",
    "outputId": "fe6038c4-b69e-4335-ae73-178ff2c8f49f",
    "tags": []
   },
   "outputs": [
    {
     "name": "stdout",
     "output_type": "stream",
     "text": [
      "Found 364 images belonging to 10 classes.\n",
      "Found 88 images belonging to 10 classes.\n",
      "Found 86 images belonging to 10 classes.\n",
      "\n",
      "Names of Classes : ['Bitraff', 'carrot', 'courget', 'haricot', 'obergin', 'oignon', 'poiverent', 'poivre', 'radis', 'tome de terre']\n"
     ]
    }
   ],
   "source": [
    "# Specify inage dimensions\n",
    "IMAGE_SHAPE = (150, 150)\n",
    "\n",
    "# Load data\n",
    "# Load data with data augmentation\n",
    "datagen = keras.preprocessing.image.ImageDataGenerator(\n",
    "    rotation_range=40,\n",
    "    shear_range=.2,\n",
    "    zoom_range=.2,\n",
    "    width_shift_range=.2,\n",
    "    height_shift_range=.2,\n",
    "    horizontal_flip=True\n",
    ")\n",
    "\n",
    "train_generator = datagen.flow_from_directory(\n",
    "    data_dir_train,\n",
    "    shuffle=True,\n",
    "    target_size=IMAGE_SHAPE,\n",
    "    class_mode='categorical'\n",
    ")\n",
    "\n",
    "datagen = keras.preprocessing.image.ImageDataGenerator(rescale=1.0/255.0)\n",
    "\n",
    "valid_generator = datagen.flow_from_directory(\n",
    "    data_dir_validation,\n",
    "    shuffle=False,\n",
    "    target_size=IMAGE_SHAPE,\n",
    "    batch_size=32,\n",
    "    class_mode='categorical'\n",
    ")\n",
    "\n",
    "test_generator = datagen.flow_from_directory(\n",
    "    data_dir_test,\n",
    "    shuffle=True,\n",
    "    target_size=IMAGE_SHAPE,\n",
    "    batch_size=32,\n",
    "    class_mode='categorical'\n",
    ")\n",
    "\n",
    "# Check names and number of classes\n",
    "names_of_classes = sorted(os.listdir(data_dir_test))\n",
    "print(f\"\\nNames of Classes : {names_of_classes}\".format(names_of_classes))\n",
    "number_of_classes = len(names_of_classes)"
   ]
  },
  {
   "cell_type": "markdown",
   "metadata": {
    "id": "n1QYNDYOKLAo"
   },
   "source": [
    "# 4. Explore data"
   ]
  },
  {
   "cell_type": "code",
   "execution_count": 12,
   "metadata": {
    "colab": {
     "base_uri": "https://localhost:8080/"
    },
    "executionInfo": {
     "elapsed": 3644,
     "status": "ok",
     "timestamp": 1680315215523,
     "user": {
      "displayName": "Rayane Larkem",
      "userId": "04691001256518795174"
     },
     "user_tz": -60
    },
    "id": "3pqD_r-YiVJx",
    "outputId": "a1c75f43-8212-4a17-ba82-e6b186225be9",
    "tags": []
   },
   "outputs": [
    {
     "name": "stdout",
     "output_type": "stream",
     "text": [
      "Train data:\n",
      "Class Bitraff: 33 files\n",
      "Class carrot: 34 files\n",
      "Class courget: 32 files\n",
      "Class haricot: 32 files\n",
      "Class obergin: 30 files\n",
      "Class oignon: 39 files\n",
      "Class poiverent: 32 files\n",
      "Class poivre: 32 files\n",
      "Class radis: 32 files\n",
      "Class tome de terre: 52 files\n",
      "\n",
      "Test data:\n",
      "Class Bitraff: 8 files\n",
      "Class carrot: 10 files\n",
      "Class courget: 9 files\n",
      "Class haricot: 16 files\n",
      "Class obergin: 6 files\n",
      "Class oignon: 10 files\n",
      "Class poiverent: 10 files\n",
      "Class poivre: 4 files\n",
      "Class radis: 5 files\n",
      "Class tome de terre: 8 files\n",
      "\n",
      "Validation data:\n",
      "Class Bitraff: 12 files\n",
      "Class carrot: 10 files\n",
      "Class courget: 9 files\n",
      "Class haricot: 9 files\n",
      "Class obergin: 10 files\n",
      "Class oignon: 9 files\n",
      "Class poiverent: 9 files\n",
      "Class poivre: 5 files\n",
      "Class radis: 7 files\n",
      "Class tome de terre: 8 files\n"
     ]
    }
   ],
   "source": [
    "# Check number of images in each subfolder for each class\n",
    "\n",
    "def count_files_in_subfolder(subfolder):\n",
    "    \n",
    "    for path in pathlib.Path(subfolder).iterdir():\n",
    "        if path.is_dir():\n",
    "            print(\"Class \" + str(path.name) + \": \" + \\\n",
    "                  str(len([name for name in os.listdir(path) \\\n",
    "            if os.path.isfile(os.path.join(path, name))])) + \" files\")\n",
    "\n",
    "print(\"Train data:\")\n",
    "count_files_in_subfolder(os.path.join(data_dir_train))\n",
    "print(\"\\nTest data:\")\n",
    "count_files_in_subfolder(os.path.join(data_dir_test))\n",
    "print(\"\\nValidation data:\")\n",
    "count_files_in_subfolder(os.path.join(data_dir_validation))"
   ]
  },
  {
   "cell_type": "markdown",
   "metadata": {
    "id": "rt3c9DmOTEiI"
   },
   "source": [
    "# 5. CNN model"
   ]
  },
  {
   "cell_type": "code",
   "execution_count": 13,
   "metadata": {
    "colab": {
     "base_uri": "https://localhost:8080/"
    },
    "executionInfo": {
     "elapsed": 85,
     "status": "ok",
     "timestamp": 1680315215525,
     "user": {
      "displayName": "Rayane Larkem",
      "userId": "04691001256518795174"
     },
     "user_tz": -60
    },
    "id": "RSXusYBeVXVS",
    "outputId": "e2446c72-b37b-47ce-feb4-71486d50ec4d",
    "tags": []
   },
   "outputs": [
    {
     "name": "stdout",
     "output_type": "stream",
     "text": [
      "Model: \"sequential_1\"\n",
      "_________________________________________________________________\n",
      " Layer (type)                Output Shape              Param #   \n",
      "=================================================================\n",
      " conv2d_3 (Conv2D)           (None, 150, 150, 32)      896       \n",
      "                                                                 \n",
      " max_pooling2d_3 (MaxPooling  (None, 75, 75, 32)       0         \n",
      " 2D)                                                             \n",
      "                                                                 \n",
      " conv2d_4 (Conv2D)           (None, 75, 75, 64)        18496     \n",
      "                                                                 \n",
      " max_pooling2d_4 (MaxPooling  (None, 37, 37, 64)       0         \n",
      " 2D)                                                             \n",
      "                                                                 \n",
      " conv2d_5 (Conv2D)           (None, 37, 37, 128)       73856     \n",
      "                                                                 \n",
      " max_pooling2d_5 (MaxPooling  (None, 18, 18, 128)      0         \n",
      " 2D)                                                             \n",
      "                                                                 \n",
      " flatten_1 (Flatten)         (None, 41472)             0         \n",
      "                                                                 \n",
      " dense_2 (Dense)             (None, 300)               12441900  \n",
      "                                                                 \n",
      " dropout_1 (Dropout)         (None, 300)               0         \n",
      "                                                                 \n",
      " dense_3 (Dense)             (None, 10)                3010      \n",
      "                                                                 \n",
      "=================================================================\n",
      "Total params: 12,538,158\n",
      "Trainable params: 12,538,158\n",
      "Non-trainable params: 0\n",
      "_________________________________________________________________\n"
     ]
    }
   ],
   "source": [
    "# model object\n",
    "model = Sequential()\n",
    "\n",
    "# Add Layers\n",
    "model.add(Conv2D(filters=32, kernel_size=3, strides=1, padding='same', activation='relu', input_shape=[150, 150, 3]))\n",
    "model.add(MaxPooling2D(2, 2))\n",
    "model.add(Conv2D(filters=64, kernel_size=3, strides=1, padding='same', activation='relu'))\n",
    "model.add(MaxPooling2D(2, 2))\n",
    "model.add(Conv2D(filters=128, kernel_size=3, strides=1, padding='same', activation='relu'))\n",
    "model.add(MaxPooling2D(2, 2))\n",
    "\n",
    "# Flatten the feature map\n",
    "model.add(Flatten())\n",
    "\n",
    "# Add the fully connected layers\n",
    "model.add(Dense(300, activation='relu'))\n",
    "model.add(Dropout(0.25))\n",
    "model.add(Dense(10, activation='softmax'))\n",
    "\n",
    "\n",
    "# print the model summary\n",
    "model.summary()"
   ]
  },
  {
   "cell_type": "code",
   "execution_count": 14,
   "metadata": {
    "colab": {
     "base_uri": "https://localhost:8080/",
     "height": 415
    },
    "executionInfo": {
     "elapsed": 101647,
     "status": "error",
     "timestamp": 1680315317121,
     "user": {
      "displayName": "Rayane Larkem",
      "userId": "04691001256518795174"
     },
     "user_tz": -60
    },
    "id": "lLeVCU-CbG1q",
    "outputId": "fbf1a82e-2dba-409f-d8e0-063229c8ddc3",
    "tags": []
   },
   "outputs": [
    {
     "name": "stdout",
     "output_type": "stream",
     "text": [
      "Epoch 1/15\n",
      "10/10 [==============================] - 34s 3s/step - loss: 152.0425 - accuracy: 0.1300 - val_loss: 2.2966 - val_accuracy: 0.0312\n",
      "Epoch 2/15\n",
      "10/10 [==============================] - 31s 3s/step - loss: 2.2275 - accuracy: 0.2733 - val_loss: 2.2963 - val_accuracy: 0.4688\n",
      "Epoch 3/15\n",
      "10/10 [==============================] - 31s 3s/step - loss: 1.5508 - accuracy: 0.4767 - val_loss: 2.2847 - val_accuracy: 0.6875\n",
      "Epoch 4/15\n",
      "10/10 [==============================] - 32s 3s/step - loss: 1.0787 - accuracy: 0.6367 - val_loss: 2.2754 - val_accuracy: 0.3125\n",
      "Epoch 5/15\n",
      "10/10 [==============================] - 31s 3s/step - loss: 0.8889 - accuracy: 0.6767 - val_loss: 2.2700 - val_accuracy: 0.6875\n",
      "Epoch 6/15\n",
      "10/10 [==============================] - 33s 3s/step - loss: 0.7573 - accuracy: 0.7031 - val_loss: 2.2643 - val_accuracy: 0.5000\n",
      "Epoch 7/15\n",
      "10/10 [==============================] - 31s 3s/step - loss: 0.5333 - accuracy: 0.8067 - val_loss: 2.2548 - val_accuracy: 0.5625\n",
      "Epoch 8/15\n",
      "10/10 [==============================] - 31s 3s/step - loss: 0.6552 - accuracy: 0.7600 - val_loss: 2.2693 - val_accuracy: 0.3438\n",
      "Epoch 9/15\n",
      "10/10 [==============================] - 31s 3s/step - loss: 0.5084 - accuracy: 0.8433 - val_loss: 2.2371 - val_accuracy: 0.3125\n",
      "Epoch 10/15\n",
      "10/10 [==============================] - 31s 3s/step - loss: 0.9422 - accuracy: 0.6933 - val_loss: 2.2770 - val_accuracy: 0.3438\n",
      "Epoch 11/15\n",
      "10/10 [==============================] - 31s 3s/step - loss: 0.5221 - accuracy: 0.8267 - val_loss: 2.2387 - val_accuracy: 0.8125\n",
      "Epoch 12/15\n",
      "10/10 [==============================] - 30s 3s/step - loss: 0.5053 - accuracy: 0.8667 - val_loss: 2.2336 - val_accuracy: 0.5625\n",
      "Epoch 13/15\n",
      "10/10 [==============================] - 31s 3s/step - loss: 0.5277 - accuracy: 0.8067 - val_loss: 2.2319 - val_accuracy: 0.6875\n",
      "Epoch 14/15\n",
      "10/10 [==============================] - 31s 3s/step - loss: 0.3848 - accuracy: 0.8700 - val_loss: 2.2360 - val_accuracy: 0.7500\n",
      "Epoch 15/15\n",
      "10/10 [==============================] - 32s 3s/step - loss: 0.2870 - accuracy: 0.9100 - val_loss: 2.2039 - val_accuracy: 0.8438\n"
     ]
    }
   ],
   "source": [
    "# Compile and fit the model\n",
    "early_stopping = keras.callbacks.EarlyStopping(patience=5) # Set up callbacks\n",
    "model.compile(optimizer='Adam', loss='categorical_crossentropy', metrics='accuracy')\n",
    "\n",
    "hist = model.fit(train_generator, \n",
    "                 epochs=15, \n",
    "                 verbose=1, \n",
    "                 validation_data=valid_generator, \n",
    "                 steps_per_epoch = 320//32, \n",
    "                 validation_steps = 40//32, \n",
    "                 callbacks=early_stopping)"
   ]
  },
  {
   "cell_type": "markdown",
   "metadata": {
    "id": "tQrtW4DbLfx8"
   },
   "source": [
    "# 6. Plotting the error and accuracy"
   ]
  },
  {
   "cell_type": "code",
   "execution_count": 15,
   "metadata": {
    "executionInfo": {
     "elapsed": 41,
     "status": "aborted",
     "timestamp": 1680315317135,
     "user": {
      "displayName": "Rayane Larkem",
      "userId": "04691001256518795174"
     },
     "user_tz": -60
    },
    "id": "cdtxbHBWMNMD",
    "outputId": "5ec0a1df-1894-4e95-e32f-2aecff245ff7",
    "tags": []
   },
   "outputs": [
    {
     "data": {
      "image/png": "[encoded data removed]",
      "text/plain": [
       "<Figure size 432x288 with 1 Axes>"
      ]
     },
     "metadata": {
      "needs_background": "light"
     },
     "output_type": "display_data"
    }
   ],
   "source": [
    "fig = plt.figure()\n",
    "plt.plot(hist.history['accuracy'], color='teal', label='accuracy')\n",
    "plt.plot(hist.history['val_accuracy'], color='orange', label='val_accuracy')\n",
    "fig.suptitle('Accuracy', fontsize=20)\n",
    "plt.legend(loc=\"upper left\")\n",
    "plt.show()"
   ]
  },
  {
   "cell_type": "markdown",
   "metadata": {
    "id": "nQNEGMeYNO9S"
   },
   "source": [
    "# 7. Evaluate"
   ]
  },
  {
   "cell_type": "code",
   "execution_count": 24,
   "metadata": {
    "executionInfo": {
     "elapsed": 48,
     "status": "aborted",
     "timestamp": 1680315317143,
     "user": {
      "displayName": "Rayane Larkem",
      "userId": "04691001256518795174"
     },
     "user_tz": -60
    },
    "id": "4oUeKBIQMiD4",
    "outputId": "f4cf14c2-0065-4b3e-ebc1-70ece8a14894"
   },
   "outputs": [
    {
     "name": "stdout",
     "output_type": "stream",
     "text": [
      "3/3 [==============================] - 7s 2s/step - loss: 2.1958 - accuracy: 0.5814\n"
     ]
    },
    {
     "data": {
      "text/plain": [
       "[2.1958441734313965, 0.5813953280448914]"
      ]
     },
     "execution_count": 24,
     "metadata": {},
     "output_type": "execute_result"
    }
   ],
   "source": [
    "model.evaluate(test_generator)"
   ]
  },
  {
   "cell_type": "code",
   "execution_count": null,
   "metadata": {},
   "outputs": [],
   "source": [
    "# Evaluate the model on the validation set\n",
    "evaluation = model.evaluate(valid_generator)\n",
    "print(\"Validation Loss: {:.2f}\".format(evaluation[0]))\n",
    "print(\"Validation Accuracy: {:.2f}%\".format(evaluation[1] * 100))\n",
    "\n",
    "# Test the model on the test set\n",
    "test_loss, test_accuracy = model.evaluate(test_generator)\n",
    "print(\"Test Loss: {:.2f}\".format(test_loss))\n",
    "print(\"Test Accuracy: {:.2f}%\".format(test_accuracy * 100))"
   ]
  },
  {
   "cell_type": "code",
   "execution_count": null,
   "metadata": {
    "executionInfo": {
     "elapsed": 53,
     "status": "aborted",
     "timestamp": 1680315317148,
     "user": {
      "displayName": "Rayane Larkem",
      "userId": "04691001256518795174"
     },
     "user_tz": -60
    },
    "id": "ysyBjoV8pGs1",
    "outputId": "a720e2ba-edef-4711-a09a-6e5f6ec12114"
   },
   "outputs": [],
   "source": [
    "# Testing the \n",
    "test_image_path = r'C:\\Users\\Thameur\\Desktop\\projet\\Data\\train\\Bitraff\\IMG_20230529_192446.jpg'\n",
    "\n",
    "def generate_predictions(test_image_path, actual_label):\n",
    "    \n",
    "    # 1. Load and preprocess the image\n",
    "    test_img = image.load_img(test_image_path, target_size=(150, 150))\n",
    "    test_img_arr = image.img_to_array(test_img)/255.0\n",
    "    test_img_input = test_img_arr.reshape((1, test_img_arr.shape[0], test_img_arr.shape[1], test_img_arr.shape[2]))\n",
    "\n",
    "    # 2. Make Predictions\n",
    "    predicted_label = np.argmax(model.predict(test_img_input))\n",
    "    predicted_vegetable = names_of_classes[predicted_label]\n",
    "    plt.figure(figsize=(4, 4))\n",
    "    plt.imshow(test_img_arr)\n",
    "    plt.title(\"Predicted Label: {}, Actual Label: {}\".format(predicted_vegetable, actual_label))\n",
    "    plt.grid()\n",
    "    plt.axis('off')\n",
    "    plt.show()\n",
    "\n",
    "# call the function\n",
    "generate_predictions(test_image_path, actual_label='Bitraf')"
   ]
  },
  {
   "cell_type": "markdown",
   "metadata": {
    "id": "F77tdX9k7ylI"
   },
   "source": [
    "# 7. Save model"
   ]
  },
  {
   "cell_type": "code",
   "execution_count": null,
   "metadata": {
    "id": "ICHnS_OU7ylJ",
    "tags": []
   },
   "outputs": [],
   "source": [
    "model.save('Veg1.h5')"
   ]
  },
  {
   "cell_type": "code",
   "execution_count": null,
   "metadata": {},
   "outputs": [],
   "source": [
    "test_loss, test_accuracy = model.evaluate(test_generator)\n",
    "print(f\"Test Loss: {test_loss}\")\n",
    "print(f\"Test Accuracy: {test_accuracy}\")\n"
   ]
  },
  {
   "cell_type": "code",
   "execution_count": null,
   "metadata": {},
   "outputs": [],
   "source": [
    "predictions = model.predict(test_generator)"
   ]
  },
  {
   "cell_type": "code",
   "execution_count": null,
   "metadata": {},
   "outputs": [],
   "source": [
    "for images, labels in test_generator:\n",
    "    predictions = model.predict(images)\n",
    "    predicted_labels = np.argmax(predictions, axis=1)\n",
    "    misclassified_indices = np.where(predicted_labels != np.argmax(labels, axis=1))[0]\n",
    "    \n",
    "    for index in misclassified_indices:\n",
    "        img = images[index]\n",
    "        true_label = np.argmax(labels[index])\n",
    "        predicted_label = predicted_labels[index]\n",
    "        plt.imshow(img)\n",
    "        plt.title(f\"True: {true_label}, Predicted: {predicted_label}\")\n",
    "        plt.axis('off')\n",
    "        plt.show()\n",
    "    \n",
    "    break  # Show only the first batch of misclassified images"
   ]
  },
  {
   "cell_type": "code",
   "execution_count": null,
   "metadata": {},
   "outputs": [],
   "source": [
    "# Load the trained model\n",
    "model = load_model('C:/Users/Thameur/Desktop/projet/Veg1.h5')\n",
    "\n",
    "# Load an image for prediction\n",
    "image_path = 'C:/Users/Thameur/Desktop/projet/Data/test/oignon/IMG_20230529_191928.jpg'\n",
    "img = image.load_img(image_path, target_size=IMAGE_SHAPE)\n",
    "img_array = image.img_to_array(img)\n",
    "img_array = np.expand_dims(img_array, axis=0)\n",
    "\n",
    "# Preprocess the image\n",
    "img_array = img_array / 255.0\n",
    "\n",
    "# Make the prediction\n",
    "predictions = model.predict(img_array)\n",
    "predicted_label = np.argmax(predictions[0])\n",
    "\n",
    "# Print the predicted label\n",
    "print(f\"Predicted Label: {names_of_classes[predicted_label]}\")\n"
   ]
  },
  {
   "cell_type": "code",
   "execution_count": null,
   "metadata": {},
   "outputs": [],
   "source": []
  }
 ],
 "metadata": {
  "accelerator": "GPU",
  "colab": {
   "provenance": []
  },
  "gpuClass": "standard",
  "kernelspec": {
   "display_name": "Python 3 (ipykernel)",
   "language": "python",
   "name": "python3"
  },
  "language_info": {
   "codemirror_mode": {
    "name": "ipython",
    "version": 3
   },
   "file_extension": ".py",
   "mimetype": "text/x-python",
   "name": "python",
   "nbconvert_exporter": "python",
   "pygments_lexer": "ipython3",
   "version": "3.10.4"
  }
 },
 "nbformat": 4,
 "nbformat_minor": 4
}
